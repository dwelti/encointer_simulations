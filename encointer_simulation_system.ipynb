{
 "cells": [
  {
   "cell_type": "code",
   "execution_count": null,
   "outputs": [],
   "source": [
    "# Import dependencies\n",
    "import pandas as pd\n",
    "import numpy as np\n",
    "import networkx\n",
    "import random\n",
    "import math\n",
    "import matplotlib.pyplot\n",
    "import seaborn\n",
    "import os\n",
    "\n",
    "# cadCAD specific libraries\n",
    "from cadCAD.configuration.utils import config_sim\n",
    "from cadCAD.configuration import Experiment\n",
    "from cadCAD.engine import ExecutionContext, Executor"
   ],
   "metadata": {
    "collapsed": false,
    "pycharm": {
     "name": "#%%\n"
    }
   }
  },
  {
   "cell_type": "code",
   "execution_count": null,
   "outputs": [],
   "source": [
    "# Make a folder in the working directory for storing visualization files\n",
    "if not os.path.exists('results_encointer_simulation'):\n",
    "  os.mkdir('results_encointer_simulation')"
   ],
   "metadata": {
    "collapsed": false,
    "pycharm": {
     "name": "#%%\n"
    }
   }
  },
  {
   "cell_type": "code",
   "execution_count": null,
   "outputs": [],
   "source": [
    "# Fixing the randomness\n",
    "random.seed(1)\n",
    "np.random.seed(1)"
   ],
   "metadata": {
    "collapsed": false,
    "pycharm": {
     "name": "#%%\n"
    }
   }
  },
  {
   "cell_type": "markdown",
   "source": [
    "### Helper Functions"
   ],
   "metadata": {
    "collapsed": false,
    "pycharm": {
     "name": "#%% md\n"
    }
   }
  },
  {
   "cell_type": "code",
   "execution_count": null,
   "outputs": [],
   "source": [
    "# gini index\n",
    "\n",
    "def gini(graph, account_type):\n",
    "    accounts = [graph.nodes[person][account_type] for person in graph.nodes]\n",
    "    sorted_accounts = sorted(accounts)\n",
    "\n",
    "    #total wealth of the community\n",
    "    total_wealth = sum(sorted_accounts)\n",
    "\n",
    "    #no division zero, perfect equality\n",
    "    if total_wealth == 0:\n",
    "        return 0\n",
    "\n",
    "    #each agent represents a fraction of the total population\n",
    "    agent_fraction = 1/len(sorted_accounts)\n",
    "\n",
    "    #cumulative portion of the total wealth\n",
    "    cumulative_wealth_portion = 0\n",
    "\n",
    "    #area under the lorenz curve\n",
    "    area_lorenz_curve = 0\n",
    "\n",
    "    for person in range(len(sorted_accounts)):\n",
    "\n",
    "        #LORENZ CURVE OF DISCRETE WEALTH DISTRIBUTION\n",
    "\n",
    "        previous_cumulative_wealth_portion = cumulative_wealth_portion\n",
    "\n",
    "        #normalized wealth share of person\n",
    "        wealth_share_of_person = sorted_accounts[person]/total_wealth\n",
    "\n",
    "        #cumulative portion of the total wealth covered until now\n",
    "        cumulative_wealth_portion += wealth_share_of_person\n",
    "\n",
    "        #AREA UNDER THE LORENZ CURVE\n",
    "\n",
    "        rectangle = agent_fraction * cumulative_wealth_portion\n",
    "        triangle = agent_fraction * (cumulative_wealth_portion - previous_cumulative_wealth_portion) / 2\n",
    "        trapeze = rectangle - triangle\n",
    "\n",
    "        area_lorenz_curve+= trapeze\n",
    "\n",
    "    # gini index\n",
    "    gini = (0.5 - area_lorenz_curve) / 0.5\n",
    "\n",
    "    if gini < 0:\n",
    "        gini = 0\n",
    "\n",
    "    return gini"
   ],
   "metadata": {
    "collapsed": false,
    "pycharm": {
     "name": "#%%\n"
    }
   }
  },
  {
   "cell_type": "code",
   "execution_count": null,
   "outputs": [],
   "source": [
    "# Demurrage\n",
    "\n",
    "def demurrage(demurrage_half_life):\n",
    "\n",
    "    # Demurrage rate\n",
    "    demurrage_rate = np.exp(np.log(0.5)/demurrage_half_life)\n",
    "\n",
    "    return 1-demurrage_rate"
   ],
   "metadata": {
    "collapsed": false,
    "pycharm": {
     "name": "#%%\n"
    }
   }
  },
  {
   "cell_type": "code",
   "execution_count": null,
   "outputs": [],
   "source": [
    "# Logistic growth\n",
    "\n",
    "def expit(x):\n",
    "    y = 1 / (1 + np.exp(-x))\n",
    "    return y\n",
    "\n",
    "def logit(x):\n",
    "    return np.log(x/(1-x))\n",
    "\n",
    "def logistic_growth(N, K, delta_x = 1):\n",
    "    if N == K:\n",
    "      return 0\n",
    "    elif N == K-1:\n",
    "      return 1\n",
    "    else:\n",
    "      return math.floor((expit(logit(N/K) + delta_x) - N/K) * K)"
   ],
   "metadata": {
    "collapsed": false,
    "pycharm": {
     "name": "#%%\n"
    }
   }
  },
  {
   "cell_type": "code",
   "execution_count": null,
   "outputs": [],
   "source": [
    "# Probability distribution of an agent to attend the ceremony as a function of wealth\n",
    "\n",
    "def find_probability_ceremony_participant(agent_wealth, max_wealth, param_scale = 0.75, param_translate = 1.5):\n",
    "    if max_wealth == 0:\n",
    "      return 1\n",
    "    half_wealth = max_wealth/2\n",
    "    scale_value = 6*param_scale/half_wealth\n",
    "    translate_value = half_wealth+param_translate\n",
    "    return 1-expit(scale_value*(agent_wealth-translate_value))\n",
    "\n",
    "# Plot\n",
    "matplotlib.pyplot.figure('Probability Distribution of Attending Ceremony')\n",
    "x = np.linspace(0, 6, 121)\n",
    "y = find_probability_ceremony_participant(x, 6)\n",
    "matplotlib.pyplot.plot(x, y)\n",
    "matplotlib.pyplot.xlim(0, 6)\n",
    "matplotlib.pyplot.ylim(0, 1)\n",
    "matplotlib.pyplot.xlabel('Wealth [LEU+CHF*XR]')\n",
    "matplotlib.pyplot.ylabel('Probability')\n",
    "matplotlib.pyplot.title('Probability Distribution of Attending Ceremony')\n",
    "matplotlib.pyplot.savefig('results_encointer_simulation/Probability Distribution of Attending Ceremony', dpi=300)"
   ],
   "metadata": {
    "collapsed": false,
    "pycharm": {
     "name": "#%%\n"
    }
   }
  },
  {
   "cell_type": "code",
   "execution_count": null,
   "outputs": [],
   "source": [
    "# Probability distribution of an agent to be selected as buyer as a function of wealth\n",
    "\n",
    "def find_probability_buyer(agent_wealth, max_wealth, param_scale = 1, param_translate = -1):\n",
    "    if max_wealth == 0:\n",
    "      return 1\n",
    "    half_wealth = max_wealth/2\n",
    "    scale_value = 6*param_scale/half_wealth\n",
    "    translate_value = half_wealth+param_translate\n",
    "    return expit(scale_value*(agent_wealth-translate_value))\n",
    "\n",
    "# Plot\n",
    "matplotlib.pyplot.figure('Probability Distribution of Purchasing Products')\n",
    "x = np.linspace(0, 6, 121)\n",
    "y = find_probability_buyer(x, 6)\n",
    "matplotlib.pyplot.plot(x, y)\n",
    "matplotlib.pyplot.xlim(0, 6)\n",
    "matplotlib.pyplot.ylim(0, 1)\n",
    "matplotlib.pyplot.xlabel('Wealth')\n",
    "matplotlib.pyplot.ylabel('Probability')\n",
    "matplotlib.pyplot.title('Probability Distribution of Purchasing Products')\n",
    "matplotlib.pyplot.savefig('results_encointer_simulation/Probability Distribution of Purchasing Products', dpi=300)"
   ],
   "metadata": {
    "collapsed": false,
    "pycharm": {
     "name": "#%%\n"
    }
   }
  },
  {
   "cell_type": "code",
   "execution_count": null,
   "outputs": [],
   "source": [
    "# Generating new agents and inserting into graph\n",
    "\n",
    "def generate_new_agents(graph, amount_new_people, basic_income, percentage_of_classes, lower_class_chf, middle_class_chf, upper_class_chf, exchange_rate):\n",
    "    last_person_index = len(list(graph.nodes))\n",
    "    amount_new_people = int(str(amount_new_people))\n",
    "\n",
    "    for person in range(last_person_index, last_person_index+amount_new_people):\n",
    "\n",
    "        # Give national currency according to social class\n",
    "        money_distribution_in_population = [lower_class_chf, middle_class_chf, upper_class_chf]\n",
    "        index = list(range(len(money_distribution_in_population)))\n",
    "        probabilities_money_distribution_in_population = percentage_of_classes #must sum to 1\n",
    "        index_chosen = np.random.choice(index , p=probabilities_money_distribution_in_population)\n",
    "        person_chf = random.randint(*money_distribution_in_population[index_chosen])\n",
    "\n",
    "        # Set initial status of agent according to national currency account; lower: 0, middle: 1, upper: 2\n",
    "        person_status_initial = index_chosen\n",
    "\n",
    "        # Give new agents basic income\n",
    "        person_leu = basic_income\n",
    "\n",
    "        # Wealth is in Encointer currency\n",
    "        person_wealth = person_chf * exchange_rate + person_leu\n",
    "\n",
    "        # Version 1: Independent product price, product amount and production speed\n",
    "        '''\n",
    "        person_product_price = random.randint(5,10)\n",
    "        person_product_amount = random.randint(50,100)\n",
    "        person_production_speed = random.randint(10,20)\n",
    "        '''\n",
    "        # Version 2: Product price, product amount and production speed depends on social class\n",
    "        if person_status_initial == 0:\n",
    "            person_product_price = 0\n",
    "            person_product_amount = 0\n",
    "            person_production_speed = 0\n",
    "        elif person_status_initial == 1:\n",
    "            person_product_price = random.randint(5,10)\n",
    "            person_product_amount = random.randint(50,100)\n",
    "            person_production_speed = random.randint(10,20)\n",
    "        else:\n",
    "            person_product_price = random.randint(5,10)\n",
    "            person_product_amount = random.randint(50,100)\n",
    "            person_production_speed = random.randint(10,20)\n",
    "\n",
    "        graph.add_node(person, chf_account = person_chf, leu_account = person_leu, wealth = person_wealth, product_amount = person_product_amount, product_price = person_product_price, production_speed = person_production_speed, initial_status = person_status_initial)\n",
    "\n",
    "    #creating edges from new nodes to all nodes\n",
    "    for person in range(last_person_index, last_person_index+amount_new_people):\n",
    "        for other_person in range(0, last_person_index+amount_new_people):\n",
    "            if person != other_person:\n",
    "                person_prefer = random.randint(1, 10)\n",
    "                graph.add_edge(person, other_person, prefer = person_prefer)\n",
    "\n",
    "    #creating edges from old nodes to new nodes\n",
    "    for person in range(0, last_person_index):\n",
    "        for other_person in range(last_person_index, last_person_index+amount_new_people):\n",
    "            if person != other_person:\n",
    "                person_prefer = random.randint(1, 10)\n",
    "                graph.add_edge(person, other_person, prefer = person_prefer)"
   ],
   "metadata": {
    "collapsed": false,
    "pycharm": {
     "name": "#%%\n"
    }
   }
  },
  {
   "cell_type": "markdown",
   "source": [
    "### Initial States and System Parameters"
   ],
   "metadata": {
    "collapsed": false,
    "pycharm": {
     "name": "#%% md\n"
    }
   }
  },
  {
   "cell_type": "code",
   "execution_count": null,
   "outputs": [],
   "source": [
    "# cadCAD Simulation Parameters\n",
    "SIMULATION_TIMESTEPS = 100#1825\n",
    "MONTE_CARLO_RUNS = 1"
   ],
   "metadata": {
    "collapsed": false,
    "pycharm": {
     "name": "#%%\n"
    }
   }
  },
  {
   "cell_type": "code",
   "execution_count": null,
   "outputs": [],
   "source": [
    "# Generate empty digraph\n",
    "economy = networkx.MultiDiGraph()"
   ],
   "metadata": {
    "collapsed": false,
    "pycharm": {
     "name": "#%%\n"
    }
   }
  },
  {
   "cell_type": "code",
   "execution_count": null,
   "outputs": [],
   "source": [
    "initial_state = {\n",
    "    'economy': economy,\n",
    "    'actions' : \"-\",\n",
    "\n",
    "    # Plot for inequality\n",
    "    'gini_index_wealth': gini(economy, 'wealth'),\n",
    "\n",
    "    # Plots for products purchases\n",
    "    'product_purchase_total': 0,\n",
    "    'product_purchase_chf': 0,\n",
    "    'product_purchase_leu': 0,\n",
    "    'product_purchase_lower_class': 0,\n",
    "    'product_purchase_middle_class': 0,\n",
    "    'product_purchase_upper_class': 0,\n",
    "\n",
    "    # Plots for demurrage and token supply\n",
    "    'cum_demurrage_fee': 0,\n",
    "    'money_minted_period': 0,\n",
    "    'demurrage_fee_period' : 0,\n",
    "\n",
    "    'simulation_type': None,\n",
    "}"
   ],
   "metadata": {
    "collapsed": false,
    "pycharm": {
     "name": "#%%\n"
    }
   }
  },
  {
   "cell_type": "code",
   "execution_count": null,
   "outputs": [],
   "source": [
    "system_params = {\n",
    "\n",
    "    # Parameters for 2 runs: [<with Encointer>, <without Encointer>]\n",
    "    'simulation_type': ['WITH_ENCOINTER', 'WITHOUT_ENCOINTER'],\n",
    "    'demurrage': [demurrage(730), 0],\n",
    "    'ceremony_interval': [5, SIMULATION_TIMESTEPS+1],\n",
    "    'basic_income': [250, 0],\n",
    "    'initial_population': [5, 50], #[> 1/newbie ratio] for encointer, [<max population>] without encointer\n",
    "    'max_population': [50, 50], #max population that can join the system\n",
    "\n",
    "    # Parameters for Population\n",
    "    'lower_class_chf': [(0,0)],\n",
    "    'middle_class_chf': [(500, 1500)],\n",
    "    'upper_class_chf': [(0,0)],\n",
    "    'lower_middle_boundary': [0],\n",
    "    'middle_upper_boundary': [0],\n",
    "    'percentage_of_classes': [(0.5, 0.5, 0)], #must add to 1\n",
    "\n",
    "    # Parameter for Ceremony\n",
    "    'newbie_ratio': [1/3], #newbie ratio of the ceremony participants\n",
    "\n",
    "    # Parameters for Purchase and Sale of Products\n",
    "    'max_nr_of_purchases_by_person': [5], #per day\n",
    "    'preference_change_big':[10],\n",
    "\n",
    "    # Parameter to change Preferences of an Agent over Time\n",
    "    'preference_change_small':[1],\n",
    "\n",
    "    # Parameter for Production Speed\n",
    "    'max_product_stock': [200], #stop manufacture of products when above\n",
    "\n",
    "    # Parameter for Exchange Rate\n",
    "    'exchange_rate': [0.01], # LEU = CHF * exchange_rate\n",
    "}"
   ],
   "metadata": {
    "collapsed": false,
    "pycharm": {
     "name": "#%%\n"
    }
   }
  },
  {
   "cell_type": "markdown",
   "source": [
    "### POLICY FUNCTIONS\n",
    "Description of the change from the current state (= previous state) to update the next state.\n",
    "\n",
    "#### Substep 0\n",
    "\n",
    "Bootstrapping"
   ],
   "metadata": {
    "collapsed": false,
    "pycharm": {
     "name": "#%% md\n"
    }
   }
  },
  {
   "cell_type": "code",
   "execution_count": null,
   "outputs": [],
   "source": [
    "def bootstrapping(params, substep, state_history, previous_state):\n",
    "\n",
    "    if len(state_history) == 1:\n",
    "        economy = previous_state['economy']\n",
    "        initial_population = params['initial_population']\n",
    "        basic_income = params['basic_income']\n",
    "        percentage_of_classes = params['percentage_of_classes']\n",
    "        lower_class_chf = params['lower_class_chf']\n",
    "        middle_class_chf = params['middle_class_chf']\n",
    "        upper_class_chf = params['upper_class_chf']\n",
    "        exchange_rate = params['exchange_rate']\n",
    "\n",
    "        generate_new_agents(economy, initial_population, basic_income, percentage_of_classes, lower_class_chf, middle_class_chf, upper_class_chf, exchange_rate)\n",
    "\n",
    "        actions = \"Bootstrapping the Encointer Community!\"\n",
    "\n",
    "    else:\n",
    "        actions = \"It is a new Day!\"\n",
    "\n",
    "    policy_input = {\n",
    "        'actions': actions\n",
    "    }\n",
    "\n",
    "    return policy_input"
   ],
   "metadata": {
    "collapsed": false,
    "pycharm": {
     "name": "#%%\n"
    }
   }
  },
  {
   "cell_type": "markdown",
   "source": [
    "#### Substep 1\n",
    "\n",
    "Ceremony"
   ],
   "metadata": {
    "collapsed": false,
    "pycharm": {
     "name": "#%% md\n"
    }
   }
  },
  {
   "cell_type": "code",
   "execution_count": null,
   "outputs": [],
   "source": [
    "def ceremony(params, substep, state_history, previous_state):\n",
    "\n",
    "    economy = previous_state['economy']\n",
    "    ceremony_interval = params['ceremony_interval']\n",
    "    basic_income = params['basic_income']\n",
    "    max_population = params['max_population']\n",
    "    newbie_ratio = params['newbie_ratio']\n",
    "\n",
    "    percentage_of_classes = params['percentage_of_classes']\n",
    "    lower_class_chf = params['lower_class_chf']\n",
    "    middle_class_chf = params['middle_class_chf']\n",
    "    upper_class_chf = params['upper_class_chf']\n",
    "    lower_middle_boundary = params['lower_middle_boundary']\n",
    "    middle_upper_boundary = params['middle_upper_boundary']\n",
    "    exchange_rate = system_params['exchange_rate'][0]\n",
    "    money_minted_period = previous_state['money_minted_period']\n",
    "\n",
    "    leu_tuples = []\n",
    "    wealth_tuples = []\n",
    "    actions = []\n",
    "\n",
    "    if len(state_history) % ceremony_interval != 0:\n",
    "        actions = \"No ceremony today!\"\n",
    "        money_minted_period = 0\n",
    "\n",
    "    # Ceremony takes place\n",
    "    if len(state_history) % ceremony_interval == 0:\n",
    "        #print(f'It is ceremony time in timestep {len(state_history)}.')\n",
    "        actions.append(\"Ceremony participants: index\")\n",
    "\n",
    "        wealth_of_agents = [economy.nodes[person_index]['wealth'] for person_index in economy.nodes]\n",
    "        #print(f'Wealth {wealth_of_agents}.')\n",
    "        max_wealth = max(wealth_of_agents)\n",
    "\n",
    "        # Ceremony attendance\n",
    "\n",
    "        probabilities_ceremony_participants = []\n",
    "        for wealth_of_agent in wealth_of_agents:\n",
    "            probabilities_ceremony_participants.append(find_probability_ceremony_participant(wealth_of_agent, max_wealth))\n",
    "        #print(f'Probabilities ceremony participants {probabilities_ceremony_participants}.')\n",
    "\n",
    "        bernoulli_results=[] #contains 0 or 1\n",
    "        for probability in probabilities_ceremony_participants:\n",
    "            bernoulli_results.append(np.random.binomial(1, probability, size=None))\n",
    "        #print(f'Bernoulli_results {bernoulli_results}.')\n",
    "\n",
    "        ceremony_participants =[person_index for person_index in economy.nodes if bernoulli_results[person_index] == 1]\n",
    "        #print(f'Ceremony participants {ceremony_participants}.')\n",
    "\n",
    "        for person_index in ceremony_participants:\n",
    "            leu_tuples.append((person_index, basic_income))\n",
    "            wealth_tuples.append((person_index, basic_income))\n",
    "\n",
    "            if economy.nodes[person_index]['chf_account'] + economy.nodes[person_index]['leu_account'] / exchange_rate < lower_middle_boundary:\n",
    "                actions.append(f\"LOWER {person_index+1}\")\n",
    "            elif economy.nodes[person_index]['chf_account'] + economy.nodes[person_index]['leu_account'] / exchange_rate < middle_upper_boundary:\n",
    "                actions.append(f\"MIDDLE {person_index+1}\")\n",
    "            else:\n",
    "                actions.append(f\"UPPER {person_index+1}\")\n",
    "\n",
    "        # Community growth through newbies\n",
    "\n",
    "        current_population = len(economy.nodes)\n",
    "\n",
    "        # Only add newbies, if community size below max population\n",
    "        if current_population <= max_population:\n",
    "\n",
    "            # Protocol ensures only a fraction of the ceremony participants are newbies\n",
    "            upper_bound_protocol = math.floor(len(ceremony_participants)*newbie_ratio) #round down to next int\n",
    "\n",
    "            # Population grows along a logistic curve\n",
    "            upper_bound_logistic_growth = logistic_growth(current_population,max_population)\n",
    "\n",
    "            newbies_amount = min(upper_bound_protocol, upper_bound_logistic_growth)\n",
    "\n",
    "            last_person_index = len(list(economy.nodes))\n",
    "            for person in range(last_person_index, last_person_index+newbies_amount):\n",
    "                actions.append(f\"NEWBIE {person_index+1}\")\n",
    "\n",
    "            # Generate newbies\n",
    "            generate_new_agents(economy, newbies_amount, basic_income, percentage_of_classes, lower_class_chf, middle_class_chf, upper_class_chf, exchange_rate)\n",
    "\n",
    "        money_minted_period = basic_income * (len(ceremony_participants)+newbies_amount)\n",
    "\n",
    "    policy_input = {\n",
    "        'leu_accounts': leu_tuples,\n",
    "        'wealth_accounts': wealth_tuples,\n",
    "        'actions': actions,\n",
    "        'money_minted_period': money_minted_period\n",
    "    }\n",
    "\n",
    "    return policy_input"
   ],
   "metadata": {
    "collapsed": false,
    "pycharm": {
     "name": "#%%\n"
    }
   }
  },
  {
   "cell_type": "markdown",
   "source": [
    "#### Substep 2\n",
    "\n",
    "Purchase and Sale of Products\n"
   ],
   "metadata": {
    "collapsed": false,
    "pycharm": {
     "name": "#%% md\n"
    }
   }
  },
  {
   "cell_type": "code",
   "execution_count": null,
   "outputs": [],
   "source": [
    "def buy_products(params, substep, state_history, previous_state):\n",
    "\n",
    "    economy = previous_state['economy']\n",
    "    max_nr_of_purchases_by_person = params['max_nr_of_purchases_by_person']\n",
    "    preference_change_big = params['preference_change_big']\n",
    "\n",
    "    lower_class_chf = params['lower_class_chf']\n",
    "    middle_class_chf = params['middle_class_chf']\n",
    "    upper_class_chf = params['upper_class_chf']\n",
    "    lower_middle_boundary = params['lower_middle_boundary']\n",
    "    middle_upper_boundary = params['middle_upper_boundary']\n",
    "    exchange_rate = params['exchange_rate']\n",
    "\n",
    "    #counting the purchase of products per day\n",
    "    product_purchase_total = 0\n",
    "    product_purchase_chf = 0\n",
    "    product_purchase_leu = 0\n",
    "    product_purchase_lower_class = 0\n",
    "    product_purchase_middle_class = 0\n",
    "    product_purchase_upper_class = 0\n",
    "\n",
    "    leu_tuples=[]\n",
    "    chf_tuples =[]\n",
    "    wealth_tuples=[]\n",
    "    amount_tuples=[]\n",
    "    actions_tuples =[]\n",
    "    preference_triples=[]\n",
    "\n",
    "    actions_tuples.append(\"Buying products: (buyer, seller)\")\n",
    "\n",
    "    planned_product_amounts = [economy.nodes[person_index]['product_amount'] for person_index in economy.nodes]\n",
    "    planned_leu_accounts = [economy.nodes[person_index]['leu_account'] for person_index in economy.nodes]\n",
    "    planned_chf_accounts = [economy.nodes[person_index]['chf_account'] for person_index in economy.nodes]\n",
    "\n",
    "    wealth_of_agents = [economy.nodes[person_index]['wealth'] for person_index in economy.nodes]\n",
    "    #print(f'Wealth {wealth_of_agents}.')\n",
    "    max_wealth = max(wealth_of_agents)\n",
    "\n",
    "    # Finding the buyers\n",
    "\n",
    "    probabilities_buyers=[]\n",
    "    for wealth_of_agent in wealth_of_agents:\n",
    "      probabilities_buyers.append(find_probability_buyer(wealth_of_agent, max_wealth))\n",
    "    #print(f'Probabilities buyers {probabilities_buyers}.')\n",
    "\n",
    "    binomial_results=[]\n",
    "    for probability in probabilities_buyers:\n",
    "      binomial_results.append(np.random.binomial(max_nr_of_purchases_by_person, probability, size=None))\n",
    "    #print(f'Binomial results {binomial_results}.')\n",
    "\n",
    "    buyers = []\n",
    "    for person_index in range(len(binomial_results)): # person_index = 0,1,2\n",
    "      bernoulli_result = binomial_results[person_index] # bernoulli_result =0,2,2\n",
    "      while bernoulli_result > 0:\n",
    "          buyers.append(person_index)\n",
    "          bernoulli_result-=1\n",
    "    #print(f'Buyers {buyers}.')\n",
    "\n",
    "    random.shuffle(buyers)\n",
    "\n",
    "    for buying_person_index in buyers:\n",
    "\n",
    "        # Selecting the product\n",
    "\n",
    "        # Get the potential_sellers according to...\n",
    "        #   Rule 1: Planned product amount is bigger than 0\n",
    "        #   Rule 2: Product price of the seller must be smaller than the leu account OR chf account of buyer\n",
    "        #   Rule 3: Buyer and seller must not be the same person\n",
    "        potential_sellers = [\n",
    "            person_index for person_index in economy.nodes\n",
    "            if planned_product_amounts[person_index] > 0\n",
    "            and (\n",
    "                economy.nodes[person_index]['product_price'] <= planned_leu_accounts[buying_person_index]\n",
    "                or economy.nodes[person_index]['product_price'] / exchange_rate <= planned_chf_accounts[buying_person_index]\n",
    "            )\n",
    "            and buying_person_index != person_index\n",
    "        ]\n",
    "\n",
    "        # No seller found for that buyer\n",
    "        if len(potential_sellers) == 0:\n",
    "            continue #with the next buyer\n",
    "\n",
    "        # Contains all preferences from the buyer to all potential_sellers\n",
    "        prefer_scores = [economy[buying_person_index][person_index][0]['prefer'] for person_index in potential_sellers]\n",
    "        total_prefer_score = sum(prefer_scores)\n",
    "\n",
    "        # No division with 0\n",
    "        if total_prefer_score == 0:\n",
    "            continue #with the next buyer\n",
    "\n",
    "        # Contains probabilities with which the buyer prefers the product of the seller\n",
    "        probabilities_select_seller = [prefer_score/total_prefer_score for prefer_score in prefer_scores]\n",
    "\n",
    "        # Choose the seller\n",
    "        selling_person_index = np.random.choice(potential_sellers , p=probabilities_select_seller)\n",
    "\n",
    "        planned_product_amounts[selling_person_index]-=1\n",
    "\n",
    "        # Decision if to buy with LEU or CHF\n",
    "        if economy.nodes[selling_person_index]['product_price'] <= planned_leu_accounts[buying_person_index]: #enough LEU\n",
    "\n",
    "            planned_leu_accounts[buying_person_index]-=economy.nodes[selling_person_index]['product_price']\n",
    "            planned_leu_accounts[selling_person_index]+=economy.nodes[selling_person_index]['product_price']\n",
    "\n",
    "            leu_tuples.append((selling_person_index, economy.nodes[selling_person_index]['product_price']))\n",
    "            leu_tuples.append((buying_person_index, -economy.nodes[selling_person_index]['product_price']))\n",
    "            wealth_tuples.append((selling_person_index, economy.nodes[selling_person_index]['product_price']))\n",
    "            wealth_tuples.append((buying_person_index, -economy.nodes[selling_person_index]['product_price']))\n",
    "\n",
    "            product_purchase_leu+=1\n",
    "\n",
    "        elif economy.nodes[selling_person_index]['product_price'] / exchange_rate <= planned_chf_accounts[buying_person_index]: #enough CHF\n",
    "\n",
    "            planned_chf_accounts[buying_person_index]-=economy.nodes[selling_person_index]['product_price'] / exchange_rate\n",
    "            planned_chf_accounts[selling_person_index]+=economy.nodes[selling_person_index]['product_price']/ exchange_rate\n",
    "\n",
    "            chf_tuples.append((selling_person_index, economy.nodes[selling_person_index]['product_price']/ exchange_rate))\n",
    "            chf_tuples.append((buying_person_index, -economy.nodes[selling_person_index]['product_price']/ exchange_rate))\n",
    "            wealth_tuples.append((selling_person_index, economy.nodes[selling_person_index]['product_price']))\n",
    "            wealth_tuples.append((buying_person_index, -economy.nodes[selling_person_index]['product_price']))\n",
    "\n",
    "            product_purchase_chf+=1\n",
    "\n",
    "\n",
    "        # TWO VERSIONS TO COUNT AMOUNT OF PURCHASES ACCORDING TO SOCIAL CLASSES\n",
    "        '''# 1ST: CHECK HOW MUCH CHF THIS PERSON HAS NOW\n",
    "        if economy.nodes[person_index]['chf_account'] + economy.nodes[person_index]['leu_account'] / exchange_rate < lower_middle_boundary:\n",
    "            product_purchase_lower_class+=1\n",
    "        elif economy.nodes[person_index]['chf_account'] + economy.nodes[person_index]['leu_account'] / exchange_rate < middle_upper_boundary:\n",
    "            product_purchase_middle_class+=1\n",
    "        else:\n",
    "            product_purchase_upper_class+=1'''\n",
    "        # 2ND: CHECK HOW MUCH CHF THIS PERSON HAD IN THE BEGINNING\n",
    "        if economy.nodes[buying_person_index]['initial_status'] == 0:\n",
    "            product_purchase_lower_class+=1\n",
    "        elif economy.nodes[buying_person_index]['initial_status'] == 1:\n",
    "            product_purchase_middle_class+=1\n",
    "        elif economy.nodes[buying_person_index]['initial_status'] == 2:\n",
    "            product_purchase_upper_class+=1\n",
    "\n",
    "        amount_tuples.append((selling_person_index,-1))\n",
    "        preference_triples.append((buying_person_index, selling_person_index, -preference_change_big))\n",
    "        actions_tuples.append((buying_person_index+1, selling_person_index+1))\n",
    "        product_purchase_total+=1\n",
    "\n",
    "    policy_input = {\n",
    "        'chf_accounts': chf_tuples,\n",
    "        'leu_accounts': leu_tuples,\n",
    "        'wealth_accounts': wealth_tuples,\n",
    "\n",
    "        'product_amounts': amount_tuples,\n",
    "        'actions': actions_tuples,\n",
    "        'preference_triples': preference_triples,\n",
    "\n",
    "        'product_purchase_total': product_purchase_total,\n",
    "        'product_purchase_chf': product_purchase_chf,\n",
    "        'product_purchase_leu': product_purchase_leu,\n",
    "        'product_purchase_lower_class': product_purchase_lower_class,\n",
    "        'product_purchase_middle_class': product_purchase_middle_class,\n",
    "        'product_purchase_upper_class': product_purchase_upper_class,\n",
    "    }\n",
    "\n",
    "    return policy_input"
   ],
   "metadata": {
    "collapsed": false,
    "pycharm": {
     "name": "#%%\n"
    }
   }
  },
  {
   "cell_type": "markdown",
   "source": [
    "#### Substep 3\n",
    "\n",
    "Demurrage Fee\n",
    "Product Manufacture\n",
    "Preference Change"
   ],
   "metadata": {
    "collapsed": false,
    "pycharm": {
     "name": "#%% md\n"
    }
   }
  },
  {
   "cell_type": "code",
   "execution_count": null,
   "outputs": [],
   "source": [
    "def product_manufacture(params, substep, state_history, previous_state):\n",
    "\n",
    "    economy = previous_state['economy']\n",
    "\n",
    "    max_product_stock = params['max_product_stock']\n",
    "\n",
    "    # For each agent add the production_speed\n",
    "    product_tuples = []\n",
    "    for person_index in economy.nodes:\n",
    "        product_increment = economy.nodes[person_index]['production_speed']\n",
    "\n",
    "        product_amount = economy.nodes[person_index]['product_amount']\n",
    "        if product_amount > max_product_stock:\n",
    "            product_increment = 0\n",
    "\n",
    "        product_tuples.append((person_index, product_increment))\n",
    "\n",
    "    policy_input = {\n",
    "        'product_amounts': product_tuples,\n",
    "    }\n",
    "    return policy_input"
   ],
   "metadata": {
    "collapsed": false,
    "pycharm": {
     "name": "#%%\n"
    }
   }
  },
  {
   "cell_type": "code",
   "execution_count": null,
   "outputs": [],
   "source": [
    "def pay_demurrage_fee(params, substep, state_history, previous_state):\n",
    "\n",
    "    economy = previous_state['economy']\n",
    "    demurrage = params['demurrage'] #now it is a number, before it was a list\n",
    "\n",
    "    # Demurrage fee = demurrage * account; round to 2nd decimal place\n",
    "    leu_tuples = [(person_index, -round(demurrage*economy.nodes[person_index]['leu_account'],2)) for person_index in economy.nodes]\n",
    "    wealth_tuples = [(person_index, -round(demurrage*economy.nodes[person_index]['leu_account'],2)) for person_index in economy.nodes]\n",
    "\n",
    "    demurrage_fee_per_day = 0\n",
    "    for person_index in economy.nodes:\n",
    "        demurrage_fee_per_day += round(demurrage*economy.nodes[person_index]['leu_account'], 2)\n",
    "\n",
    "    # Cumulated demurrage fees of all agents\n",
    "    cum_demurrage_fee = previous_state['cum_demurrage_fee'] + demurrage_fee_per_day\n",
    "\n",
    "    # Sum up all demurrage fees between two ceremonies\n",
    "    ceremony_interval = params['ceremony_interval']\n",
    "    if len(state_history) % ceremony_interval == 1: #there was a ceremony yesterday\n",
    "        demurrage_fee_period = demurrage_fee_per_day #reset demurrage period\n",
    "    else:\n",
    "        demurrage_fee_period = previous_state['demurrage_fee_period']+demurrage_fee_per_day\n",
    "\n",
    "    policy_input = {\n",
    "        'leu_accounts': leu_tuples,\n",
    "        'wealth_accounts' : wealth_tuples,\n",
    "        'cum_demurrage_fee': cum_demurrage_fee,\n",
    "        'demurrage_fee_period': demurrage_fee_period\n",
    "    }\n",
    "    return policy_input"
   ],
   "metadata": {
    "collapsed": false,
    "pycharm": {
     "name": "#%%\n"
    }
   }
  },
  {
   "cell_type": "code",
   "execution_count": null,
   "outputs": [],
   "source": [
    "def preference_change(params, substep, state_history, previous_state):\n",
    "\n",
    "    economy = previous_state['economy']\n",
    "    preference_change_small = params['preference_change_small']\n",
    "\n",
    "    preference_triples = []\n",
    "\n",
    "    #for each edge between two people increase the preference\n",
    "    for buy_person_index in economy.nodes:\n",
    "        for sell_person_index in economy.nodes:\n",
    "            if buy_person_index != sell_person_index:\n",
    "                preference_triples.append((buy_person_index, sell_person_index, preference_change_small))\n",
    "\n",
    "    policy_input = {\n",
    "        'preference_triples' : preference_triples\n",
    "    }\n",
    "    return policy_input"
   ],
   "metadata": {
    "collapsed": false,
    "pycharm": {
     "name": "#%%\n"
    }
   }
  },
  {
   "cell_type": "code",
   "execution_count": null,
   "outputs": [],
   "source": [
    "def set_actions_demurrage(params, substep, state_history, previous_state):\n",
    "\n",
    "    policy_input = {\n",
    "        'actions' : \"Demurrage fee, product manufacture & preference change\"\n",
    "    }\n",
    "    return policy_input"
   ],
   "metadata": {
    "collapsed": false,
    "pycharm": {
     "name": "#%%\n"
    }
   }
  },
  {
   "cell_type": "markdown",
   "source": [
    "#### Substep 4\n",
    "\n",
    "Inequality measure"
   ],
   "metadata": {
    "collapsed": false,
    "pycharm": {
     "name": "#%% md\n"
    }
   }
  },
  {
   "cell_type": "code",
   "execution_count": null,
   "outputs": [],
   "source": [
    "def calculate_gini_index(params, substep, state_history, previous_state):\n",
    "\n",
    "    gini_economy = previous_state['economy']\n",
    "\n",
    "    policy_input = {\n",
    "        #'gini_index_leu' : gini(gini_economy, 'leu_account'),\n",
    "        #'gini_index_chf' : gini(gini_economy, 'chf_account'),\n",
    "        'gini_index_wealth' : gini(gini_economy, 'wealth')\n",
    "    }\n",
    "\n",
    "    return policy_input"
   ],
   "metadata": {
    "collapsed": false,
    "pycharm": {
     "name": "#%%\n"
    }
   }
  },
  {
   "cell_type": "code",
   "execution_count": null,
   "outputs": [],
   "source": [
    "def set_actions_gini(params, substep, state_history, previous_state):\n",
    "\n",
    "    policy_input = {\n",
    "        'actions' : \"Gini index calculation\"\n",
    "    }\n",
    "    return policy_input"
   ],
   "metadata": {
    "collapsed": false,
    "pycharm": {
     "name": "#%%\n"
    }
   }
  },
  {
   "cell_type": "markdown",
   "source": [
    "### STATE UPDATE FUNCTIONS\n",
    "Functions to update the state variables"
   ],
   "metadata": {
    "collapsed": false,
    "pycharm": {
     "name": "#%% md\n"
    }
   }
  },
  {
   "cell_type": "code",
   "execution_count": null,
   "outputs": [],
   "source": [
    "def update_economy(params, substep, state_history,  previous_state, policy_input):\n",
    "\n",
    "    economy = previous_state['economy']\n",
    "\n",
    "    # UPDATE LEU ACCOUNTS\n",
    "    if 'leu_accounts' in policy_input:\n",
    "        leu_tuples = policy_input['leu_accounts']\n",
    "        for (person_index, account_movement) in leu_tuples:\n",
    "            economy.nodes[person_index]['leu_account'] += account_movement\n",
    "\n",
    "            # Python has a rounding problem (e.g. 0.48-0.47), therefore add another round\n",
    "            economy.nodes[person_index]['leu_account'] = round(economy.nodes[person_index]['leu_account'],2)\n",
    "\n",
    "    # UPDATE CHF ACCOUNTS\n",
    "    if 'chf_accounts' in policy_input:\n",
    "        chf_tuples = policy_input['chf_accounts']\n",
    "        for (person_index, chf_account_movement) in chf_tuples:\n",
    "            economy.nodes[person_index]['chf_account'] += chf_account_movement\n",
    "\n",
    "            # Python has a rounding problem (e.g. 0.48-0.47), therefore add another round\n",
    "            economy.nodes[person_index]['chf_account'] = round(economy.nodes[person_index]['chf_account'],2)\n",
    "\n",
    "    # UPDATE WEALTH ACCOUNTS\n",
    "    if 'wealth_accounts' in policy_input:\n",
    "        wealth_tuples = policy_input['wealth_accounts']\n",
    "        for (person_index, wealth_account_movement) in wealth_tuples:\n",
    "            economy.nodes[person_index]['wealth'] += wealth_account_movement\n",
    "\n",
    "            # Python has a rounding problem (e.g. 0.48-0.47), therefore add another round\n",
    "            economy.nodes[person_index]['wealth'] = round(economy.nodes[person_index]['wealth'],2)\n",
    "\n",
    "    # UPDATE PRODUCT AMOUNTS\n",
    "    if 'product_amounts' in policy_input:\n",
    "        product_amount_tuples = policy_input['product_amounts']\n",
    "        for (person_index, product_amount_movement) in product_amount_tuples:\n",
    "            economy.nodes[person_index]['product_amount'] += product_amount_movement\n",
    "\n",
    "\n",
    "    # UPDATE PREFERENCES\n",
    "    if 'preference_triples' in policy_input:\n",
    "        preference_triples = policy_input['preference_triples']\n",
    "        for (buy_person_index, sell_person_index, preference_change) in preference_triples:\n",
    "            economy[buy_person_index][sell_person_index][0]['prefer'] += preference_change\n",
    "\n",
    "            # Preference cannot be below 0\n",
    "            if  economy[buy_person_index][sell_person_index][0]['prefer'] < 0:\n",
    "                economy[buy_person_index][sell_person_index][0]['prefer'] = 0\n",
    "\n",
    "    return 'economy', economy"
   ],
   "metadata": {
    "collapsed": false,
    "pycharm": {
     "name": "#%%\n"
    }
   }
  },
  {
   "cell_type": "code",
   "execution_count": null,
   "outputs": [],
   "source": [
    "def update_actions(params, substep, state_history,  previous_state, policy_input):\n",
    "\n",
    "    actions = policy_input['actions']\n",
    "\n",
    "    return 'actions', actions"
   ],
   "metadata": {
    "collapsed": false,
    "pycharm": {
     "name": "#%%\n"
    }
   }
  },
  {
   "cell_type": "code",
   "execution_count": null,
   "outputs": [],
   "source": [
    "def update_simulation_type(params, substep, state_history,  previous_state, policy_input):\n",
    "    return 'simulation_type', params['simulation_type']"
   ],
   "metadata": {
    "collapsed": false,
    "pycharm": {
     "name": "#%%\n"
    }
   }
  },
  {
   "cell_type": "code",
   "execution_count": null,
   "outputs": [],
   "source": [
    "def update_gini_index_wealth(params, substep, state_history,  previous_state, policy_input):\n",
    "    gini_index_wealth = policy_input['gini_index_wealth']\n",
    "    return 'gini_index_wealth', gini_index_wealth"
   ],
   "metadata": {
    "collapsed": false,
    "pycharm": {
     "name": "#%%\n"
    }
   }
  },
  {
   "cell_type": "code",
   "execution_count": null,
   "outputs": [],
   "source": [
    "def update_product_purchase_total(params, substep, state_history,  previous_state, policy_input):\n",
    "    product_purchase_total = policy_input['product_purchase_total']\n",
    "    return 'product_purchase_total', product_purchase_total\n",
    "\n",
    "def update_product_purchase_chf(params, substep, state_history,  previous_state, policy_input):\n",
    "    product_purchase_chf = policy_input['product_purchase_chf']\n",
    "    return 'product_purchase_chf', product_purchase_chf\n",
    "\n",
    "def update_product_purchase_leu(params, substep, state_history,  previous_state, policy_input):\n",
    "    product_purchase_leu = policy_input['product_purchase_leu']\n",
    "    return 'product_purchase_leu', product_purchase_leu\n",
    "\n",
    "\n",
    "def update_product_purchase_lower_class(params, substep, state_history,  previous_state, policy_input):\n",
    "    product_purchase_lower_class = policy_input['product_purchase_lower_class']\n",
    "    return 'product_purchase_lower_class', product_purchase_lower_class\n",
    "\n",
    "def update_product_purchase_middle_class(params, substep, state_history,  previous_state, policy_input):\n",
    "    product_purchase_middle_class = policy_input['product_purchase_middle_class']\n",
    "    return 'product_purchase_middle_class', product_purchase_middle_class\n",
    "\n",
    "def update_product_purchase_upper_class(params, substep, state_history,  previous_state, policy_input):\n",
    "    product_purchase_upper_class = policy_input['product_purchase_upper_class']\n",
    "    return 'product_purchase_upper_class', product_purchase_upper_class"
   ],
   "metadata": {
    "collapsed": false,
    "pycharm": {
     "name": "#%%\n"
    }
   }
  },
  {
   "cell_type": "code",
   "execution_count": null,
   "outputs": [],
   "source": [
    "def update_product_purchase_total(params, substep, state_history,  previous_state, policy_input):\n",
    "    product_purchase_total = policy_input['product_purchase_total']\n",
    "    return 'product_purchase_total', product_purchase_total\n",
    "\n",
    "def update_product_purchase_chf(params, substep, state_history,  previous_state, policy_input):\n",
    "    product_purchase_chf = policy_input['product_purchase_chf']\n",
    "    return 'product_purchase_chf', product_purchase_chf\n",
    "\n",
    "def update_product_purchase_leu(params, substep, state_history,  previous_state, policy_input):\n",
    "    product_purchase_leu = policy_input['product_purchase_leu']\n",
    "    return 'product_purchase_leu', product_purchase_leu\n",
    "\n",
    "\n",
    "def update_product_purchase_lower_class(params, substep, state_history,  previous_state, policy_input):\n",
    "    product_purchase_lower_class = policy_input['product_purchase_lower_class']\n",
    "    return 'product_purchase_lower_class', product_purchase_lower_class\n",
    "\n",
    "def update_product_purchase_middle_class(params, substep, state_history,  previous_state, policy_input):\n",
    "    product_purchase_middle_class = policy_input['product_purchase_middle_class']\n",
    "    return 'product_purchase_middle_class', product_purchase_middle_class\n",
    "\n",
    "def update_product_purchase_upper_class(params, substep, state_history,  previous_state, policy_input):\n",
    "    product_purchase_upper_class = policy_input['product_purchase_upper_class']\n",
    "    return 'product_purchase_upper_class', product_purchase_upper_class"
   ],
   "metadata": {
    "collapsed": false,
    "pycharm": {
     "name": "#%%\n"
    }
   }
  },
  {
   "cell_type": "code",
   "execution_count": null,
   "outputs": [],
   "source": [
    "def update_cum_demurrage_fee(params, substep, state_history,  previous_state, policy_input):\n",
    "    cum_demurrage_fee = policy_input['cum_demurrage_fee']\n",
    "    return 'cum_demurrage_fee', cum_demurrage_fee\n",
    "\n",
    "def update_money_minted_period(params, substep, state_history,  previous_state, policy_input):\n",
    "    money_minted_period = policy_input['money_minted_period']\n",
    "    return 'money_minted_period', money_minted_period\n",
    "\n",
    "def update_demurrage_fee_period(params, substep, state_history,  previous_state, policy_input):\n",
    "    demurrage_fee_period = policy_input['demurrage_fee_period']\n",
    "    return 'demurrage_fee_period', demurrage_fee_period"
   ],
   "metadata": {
    "collapsed": false,
    "pycharm": {
     "name": "#%%\n"
    }
   }
  },
  {
   "cell_type": "markdown",
   "source": [
    "### PARTIAL STATE UPDATE BLOCKS\n",
    "\n",
    "A series of Partial State Update Blocks is a structure for composing State Update Functions and Policy Functions in series or parallel, as a representation of the system model."
   ],
   "metadata": {
    "collapsed": false,
    "pycharm": {
     "name": "#%% md\n"
    }
   }
  },
  {
   "cell_type": "code",
   "execution_count": null,
   "outputs": [],
   "source": [
    "partial_state_update_blocks = [\n",
    "    #substep 0\n",
    "    {\n",
    "        'policies': {\n",
    "            'bootstrapping': bootstrapping,\n",
    "        },\n",
    "        'variables': {\n",
    "            'economy': update_economy,\n",
    "            'actions': update_actions,\n",
    "        }\n",
    "    },\n",
    "    #substep 1\n",
    "    {\n",
    "        'policies': {\n",
    "            'ceremony': ceremony,\n",
    "        },\n",
    "        'variables': {\n",
    "            'economy': update_economy,\n",
    "            'actions': update_actions,\n",
    "            'simulation_type': update_simulation_type,\n",
    "            'money_minted_period': update_money_minted_period\n",
    "        }\n",
    "    },\n",
    "    #substep 2\n",
    "    {\n",
    "        'policies': {\n",
    "            'buy_products': buy_products,\n",
    "        },\n",
    "        'variables': {\n",
    "            'economy': update_economy,\n",
    "            'actions': update_actions,\n",
    "\n",
    "            #plots\n",
    "            'product_purchase_total': update_product_purchase_total,\n",
    "            'product_purchase_chf': update_product_purchase_chf,\n",
    "            'product_purchase_leu': update_product_purchase_leu,\n",
    "            'product_purchase_middle_class': update_product_purchase_middle_class,\n",
    "            'product_purchase_lower_class': update_product_purchase_lower_class,\n",
    "            'product_purchase_upper_class': update_product_purchase_upper_class,\n",
    "        }\n",
    "    },\n",
    "    #substep 3\n",
    "    {\n",
    "        'policies': {\n",
    "            'decrease_accounts': pay_demurrage_fee,\n",
    "            'increase_product_amounts': product_manufacture,\n",
    "            'increase_preferences': preference_change,\n",
    "            'set_actions_demurrage': set_actions_demurrage,\n",
    "        },\n",
    "        'variables': {\n",
    "            'economy': update_economy,\n",
    "            'actions': update_actions,\n",
    "            'cum_demurrage_fee': update_cum_demurrage_fee,\n",
    "            'demurrage_fee_period': update_demurrage_fee_period\n",
    "        }\n",
    "    },\n",
    "    #substep 4\n",
    "    {\n",
    "        'policies': {\n",
    "            'calculate_gini_index': calculate_gini_index,\n",
    "            'set_actions_gini': set_actions_gini,\n",
    "        },\n",
    "        'variables': {\n",
    "            'gini_index_wealth': update_gini_index_wealth,\n",
    "            'actions': update_actions,\n",
    "        }\n",
    "    }\n",
    "]"
   ],
   "metadata": {
    "collapsed": false,
    "pycharm": {
     "name": "#%%\n"
    }
   }
  },
  {
   "cell_type": "markdown",
   "source": [
    "### CONFIGURATION & EXECUTION"
   ],
   "metadata": {
    "collapsed": false,
    "pycharm": {
     "name": "#%% md\n"
    }
   }
  },
  {
   "cell_type": "code",
   "execution_count": null,
   "outputs": [],
   "source": [
    "# CADCAD configuration\n",
    "sim_config = config_sim(\n",
    "    {\n",
    "        'N': MONTE_CARLO_RUNS,\n",
    "        'T': range(SIMULATION_TIMESTEPS),\n",
    "        'M': system_params\n",
    "    }\n",
    ")"
   ],
   "metadata": {
    "collapsed": false,
    "pycharm": {
     "name": "#%%\n"
    }
   }
  },
  {
   "cell_type": "code",
   "execution_count": null,
   "outputs": [],
   "source": [
    "from cadCAD import configs\n",
    "\n",
    "# Clear any prior configs\n",
    "del configs[:]\n",
    "\n",
    "experiment = Experiment()\n",
    "\n",
    "# Change configs from 'import configs'\n",
    "experiment.append_configs(\n",
    "    sim_configs=sim_config,\n",
    "    initial_state=initial_state,\n",
    "    partial_state_update_blocks =partial_state_update_blocks\n",
    ")\n",
    "\n",
    "exec_context = ExecutionContext()\n",
    "run = Executor(exec_context=exec_context, configs=configs) #the table is created here\n",
    "\n",
    "# Table is stored in system_events\n",
    "(system_events, tensor_field, sessions) = run.execute()"
   ],
   "metadata": {
    "collapsed": false,
    "pycharm": {
     "name": "#%%\n"
    }
   }
  },
  {
   "cell_type": "markdown",
   "source": [
    "### OUTPUT PREPARATION"
   ],
   "metadata": {
    "collapsed": false,
    "pycharm": {
     "name": "#%% md\n"
    }
   }
  },
  {
   "cell_type": "code",
   "execution_count": null,
   "outputs": [],
   "source": [
    "# Modify system_events\n",
    "\n",
    "for system_event in system_events:\n",
    "\n",
    "    economy = system_event['economy']\n",
    "    exchange_rate = system_params['exchange_rate'][0]\n",
    "\n",
    "    lower_middle_boundary = system_params['lower_middle_boundary'][0]\n",
    "    middle_upper_boundary = system_params['middle_upper_boundary'][0]\n",
    "\n",
    "    chf_accounts = [economy.nodes[person_index]['chf_account'] for person_index in economy.nodes]\n",
    "    system_event['chf_accounts'] = chf_accounts\n",
    "\n",
    "    leu_accounts = [economy.nodes[person_index]['leu_account'] for person_index in economy.nodes]\n",
    "    system_event['leu_accounts'] = leu_accounts\n",
    "\n",
    "    wealth = [economy.nodes[person_index]['wealth'] for person_index in economy.nodes]\n",
    "    system_event['wealth'] = wealth\n",
    "\n",
    "    initial_status = [economy.nodes[person_index]['initial_status'] for person_index in economy.nodes]\n",
    "    system_event['status_initial'] = initial_status\n",
    "\n",
    "    product_amounts = [economy.nodes[person_index]['product_amount'] for person_index in economy.nodes]\n",
    "    system_event['product_amounts'] = product_amounts\n",
    "\n",
    "    product_prices = [economy.nodes[person_index]['product_price'] for person_index in economy.nodes]\n",
    "    system_event['product_prices'] = product_prices\n",
    "\n",
    "    production_speeds = [economy.nodes[person_index]['production_speed'] for person_index in economy.nodes]\n",
    "    system_event['production_speeds'] = production_speeds\n",
    "\n",
    "    preferences=[]\n",
    "    for buyer_index in economy.nodes:\n",
    "        helper_list=[]\n",
    "        for seller_index in economy.nodes:\n",
    "            #no preference for itself\n",
    "            if seller_index == buyer_index:\n",
    "                helper_list.append('-')\n",
    "                continue #with next buyer\n",
    "            helper_list.append(economy[buyer_index][seller_index][0]['prefer'])\n",
    "        preferences.append(helper_list)\n",
    "    system_event['preferences'] = preferences\n",
    "\n",
    "    # Community size\n",
    "    number_of_people = len(list(economy.nodes))\n",
    "    system_event['community_size'] = number_of_people\n",
    "\n",
    "    # Number of people\n",
    "    number_of_lower_class_people = 0\n",
    "    number_of_middle_class_people = 0\n",
    "    number_of_upper_class_people = 0\n",
    "    for person_index in economy.nodes:\n",
    "        if economy.nodes[person_index]['chf_account'] + economy.nodes[person_index]['leu_account'] / exchange_rate < lower_middle_boundary:\n",
    "            number_of_lower_class_people += 1\n",
    "        elif economy.nodes[person_index]['chf_account'] + economy.nodes[person_index]['leu_account'] / exchange_rate < middle_upper_boundary:\n",
    "            number_of_middle_class_people += 1\n",
    "        else:\n",
    "            number_of_upper_class_people += 1\n",
    "    system_event['lower_class_people'] = number_of_lower_class_people\n",
    "    system_event['middle_class_people'] = number_of_middle_class_people\n",
    "    system_event['upper_class_people'] = number_of_upper_class_people\n",
    "\n",
    "    sum_of_product_amounts = 0\n",
    "    for product_amount in product_amounts:\n",
    "        sum_of_product_amounts += product_amount\n",
    "    system_event['sum_of_product_amounts'] = sum_of_product_amounts\n",
    "\n",
    "    sum_of_leu_accounts = 0\n",
    "    for leu_account in leu_accounts:\n",
    "        sum_of_leu_accounts += leu_account\n",
    "    system_event['leu_total'] = sum_of_leu_accounts\n",
    "\n",
    "    sum_of_chf_accounts = 0\n",
    "    for chf_account in chf_accounts:\n",
    "        sum_of_chf_accounts += chf_account\n",
    "    system_event['sum_of_chf_accounts'] = sum_of_chf_accounts\n",
    "\n",
    "    sum_of_wealths = 0\n",
    "    for person_wealth in wealth:\n",
    "        sum_of_wealths += person_wealth\n",
    "    system_event['wealth_total'] = sum_of_wealths\n",
    "\n",
    "    del system_event['simulation']\n",
    "    del system_event['subset']"
   ],
   "metadata": {
    "collapsed": false,
    "pycharm": {
     "name": "#%%\n"
    }
   }
  },
  {
   "cell_type": "markdown",
   "source": [
    "### PLOT THE TABLE"
   ],
   "metadata": {
    "collapsed": false,
    "pycharm": {
     "name": "#%% md\n"
    }
   }
  },
  {
   "cell_type": "code",
   "execution_count": null,
   "outputs": [],
   "source": [
    "# Use pandas library to create a table with the information stored in system_events (= display of the data)\n",
    "df = pd.DataFrame(system_events)\n",
    "df = df.set_index(['run','timestep','substep']) #set the index\n",
    "pd.set_option('display.max_rows', None)\n",
    "pd.set_option('display.max_columns', None)\n",
    "pd.set_option('max_colwidth', None)\n",
    "df"
   ],
   "metadata": {
    "collapsed": false,
    "pycharm": {
     "name": "#%%\n"
    }
   }
  },
  {
   "cell_type": "code",
   "execution_count": null,
   "outputs": [],
   "source": [
    "#save into an Excel spreadsheet\n",
    "df.to_excel('results_encointer_simulation/encointer_simulation_table.xlsx')\n",
    "\n",
    "print('cadCAD has executed the simulation successfully!')\n",
    "\n",
    "#close excel table before running it again!"
   ],
   "metadata": {
    "collapsed": false,
    "pycharm": {
     "name": "#%%\n"
    }
   }
  },
  {
   "cell_type": "markdown",
   "source": [
    "### PLOT THE NETWORKX GRAPH"
   ],
   "metadata": {
    "collapsed": false,
    "pycharm": {
     "name": "#%% md\n"
    }
   }
  },
  {
   "cell_type": "code",
   "execution_count": null,
   "outputs": [],
   "source": [
    "# Print as NetworkX graph\n",
    "\n",
    "# Get the agents balance\n",
    "G = system_events[0]['economy'] #insert timestep into []\n",
    "node_balances = networkx.get_node_attributes(G, 'account')\n",
    "node_labels = {node: f\"{value :.0f}\"\n",
    "    for node, value\n",
    "    in node_balances.items()}\n",
    "\n",
    "# Node sizes\n",
    "sizes = list(node_balances.values())\n",
    "\n",
    "# Prepare the figure\n",
    "matplotlib.pyplot.figure(figsize=(12, 4))\n",
    "\n",
    "# Draw the nodes\n",
    "pos = networkx.spring_layout(G)\n",
    "networkx.draw(G,\n",
    "    pos,\n",
    "    node_size=sizes)\n",
    "\n",
    "# Draw the balances\n",
    "networkx.draw_networkx_labels(G, pos, labels=node_labels)\n",
    "\n",
    "# Show the visualization\n",
    "matplotlib.pyplot.show()"
   ],
   "metadata": {
    "collapsed": false,
    "pycharm": {
     "name": "#%%\n"
    }
   }
  },
  {
   "cell_type": "markdown",
   "source": [
    "### PLOT THE GRAPHS"
   ],
   "metadata": {
    "collapsed": false,
    "pycharm": {
     "name": "#%% md\n"
    }
   }
  },
  {
   "cell_type": "code",
   "execution_count": null,
   "outputs": [],
   "source": [
    "# Save the dataframe as system_events_table\n",
    "system_events_table = df\n",
    "\n",
    "# Reset the indexes (since indexes are \"run, timestep, substep\")\n",
    "system_events_table = system_events_table.reset_index()"
   ],
   "metadata": {
    "collapsed": false,
    "pycharm": {
     "name": "#%%\n"
    }
   }
  },
  {
   "cell_type": "markdown",
   "source": [
    "#### WITH ENCOINTER FRAMEWORK"
   ],
   "metadata": {
    "collapsed": false,
    "pycharm": {
     "name": "#%% md\n"
    }
   }
  },
  {
   "cell_type": "code",
   "execution_count": null,
   "outputs": [],
   "source": [
    "# Set a mask for Encointer and filter all substeps 5\n",
    "mask = (system_events_table['simulation_type']=='WITH_ENCOINTER') & (system_events_table['substep']==5) #| (system_events_table['substep']==0)\n",
    "system_events_with_encointer_table = system_events_table[mask]\n",
    "\n",
    "# Set the new indexes\n",
    "system_events_with_encointer_table = system_events_with_encointer_table.set_index('timestep')"
   ],
   "metadata": {
    "collapsed": false,
    "pycharm": {
     "name": "#%%\n"
    }
   }
  },
  {
   "cell_type": "code",
   "execution_count": null,
   "outputs": [],
   "source": [
    "# PLOT COMMUNITY SIZE\n",
    "\n",
    "community_size_table = system_events_with_encointer_table[['community_size']]\n",
    "community_size_table.rename(columns = {'community_size': 'Community Size'}, inplace = True)\n",
    "\n",
    "matplotlib.pyplot.figure('Community Size - Encointer')\n",
    "\n",
    "axes=seaborn.lineplot(data = community_size_table)\n",
    "axes.set_ylim(ymin=0)\n",
    "axes.set_xlim(1, 1825)\n",
    "\n",
    "# Set grid on x-axis on ceremony timesteps\n",
    "#axes.set_xticks(ceremony_list)\n",
    "\n",
    "matplotlib.pyplot.xlabel('Time (Days)')\n",
    "matplotlib.pyplot.ylabel('Number of People')\n",
    "\n",
    "matplotlib.pyplot.xticks(rotation=90)\n",
    "\n",
    "matplotlib.pyplot.savefig('results_encointer_simulation/Community Size - Encointer', dpi=300, bbox_inches = \"tight\")"
   ],
   "metadata": {
    "collapsed": false,
    "pycharm": {
     "name": "#%%\n"
    }
   }
  },
  {
   "cell_type": "code",
   "execution_count": null,
   "outputs": [],
   "source": [
    "# PLOT LEU IN CIRCULATION AND DEMURRAGE\n",
    "\n",
    "leu_total_demurrage_fee_table = system_events_with_encointer_table[['cum_demurrage_fee', 'leu_total']]\n",
    "\n",
    "leu_total_demurrage_fee_table.rename(columns = {'leu_total': 'Total OGU Supply Improved'}, inplace = True)\n",
    "leu_total_demurrage_fee_table.rename(columns = {'cum_demurrage_fee': 'Cumulated Demurrage Improved'}, inplace = True)\n",
    "\n",
    "\n",
    "matplotlib.pyplot.figure('OGU in Circulation and Demurrage - Encointer')\n",
    "\n",
    "axes=seaborn.lineplot(data = leu_total_demurrage_fee_table)\n",
    "\n",
    "#set grid on x-axis on ceremony timesteps\n",
    "#axes.set_xticks(ceremony_list)\n",
    "\n",
    "#name the axes\n",
    "matplotlib.pyplot.xlabel('Time (Days)')\n",
    "matplotlib.pyplot.ylabel('OGU')\n",
    "axes.set_xlim(1, 1825)\n",
    "axes.set_ylim(1, 1000000)\n",
    "\n",
    "matplotlib.pyplot.xticks(rotation=90)\n",
    "\n",
    "matplotlib.pyplot.savefig('results_encointer_simulation/OGU in Circulation and Demurrage - Encointer', dpi=300, bbox_inches = \"tight\")"
   ],
   "metadata": {
    "collapsed": false,
    "pycharm": {
     "name": "#%%\n"
    }
   }
  },
  {
   "cell_type": "code",
   "execution_count": null,
   "outputs": [],
   "source": [
    "# PLOT OGU MINTED AND DEMURRAGE BETWEEN TWO CEREMONIES\n",
    "\n",
    "demurrage_minted_money = system_events_with_encointer_table[['demurrage_fee_period', 'money_minted_period']]\n",
    "\n",
    "demurrage_minted_money.rename(columns = {'money_minted_period': 'Total OGU in Ceremony Improved'}, inplace = True)\n",
    "demurrage_minted_money.rename(columns = {'demurrage_fee_period': 'Total Demurrage between Ceremonies Improved'}, inplace = True)\n",
    "\n",
    "\n",
    "#returns cumulative sum over a DataFrame or Series\n",
    "\n",
    "matplotlib.pyplot.figure('Demurrage and Money Minted Between 2 Ceremonies - Encointer')\n",
    "\n",
    "axes=seaborn.lineplot(data = demurrage_minted_money)\n",
    "\n",
    "#set grid on x-axis on ceremony timesteps\n",
    "#axes.set_xticks(ceremony_list)\n",
    "\n",
    "#name the axes\n",
    "matplotlib.pyplot.xlabel('Time (Days)')\n",
    "matplotlib.pyplot.ylabel('OGU')\n",
    "axes.set_xlim(1, 1825)\n",
    "axes.set_ylim(1, 6000)\n",
    "\n",
    "matplotlib.pyplot.xticks(rotation=90)\n",
    "matplotlib.pyplot.savefig('results_encointer_simulation/Demurrage and Money Minted Between 2 Ceremonies', dpi=300, bbox_inches = \"tight\")"
   ],
   "metadata": {
    "collapsed": false,
    "pycharm": {
     "name": "#%%\n"
    }
   }
  },
  {
   "cell_type": "markdown",
   "source": [
    "#### COMPARISON ENCOINTER AND NO ENCOINTER FRAMEWORK\n"
   ],
   "metadata": {
    "collapsed": false,
    "pycharm": {
     "name": "#%% md\n"
    }
   }
  },
  {
   "cell_type": "code",
   "execution_count": null,
   "outputs": [],
   "source": [
    "mask = (system_events_table['simulation_type']=='WITHOUT_ENCOINTER') & (system_events_table['substep']==5)\n",
    "system_events_without_encointer_table = system_events_table[mask]\n",
    "\n",
    "#set the new indexes\n",
    "system_events_without_encointer_table = system_events_without_encointer_table.set_index('timestep')"
   ],
   "metadata": {
    "collapsed": false,
    "pycharm": {
     "name": "#%%\n"
    }
   }
  },
  {
   "cell_type": "code",
   "execution_count": null,
   "outputs": [],
   "source": [
    "# PLOT GINI INDEX FOR CHF AND WEALTH\n",
    "\n",
    "with_encointer_gini_table = system_events_with_encointer_table[['gini_index_wealth']]\n",
    "without_encointer_gini_table = system_events_without_encointer_table[['gini_index_wealth']]\n",
    "\n",
    "gini_table = pd.DataFrame(index=system_events_with_encointer_table.index)\n",
    "\n",
    "gini_table['Gini Index w/o OGU Improved'] = system_events_without_encointer_table['gini_index_wealth']\n",
    "gini_table['Gini Index w/ OGU Improved'] = system_events_with_encointer_table['gini_index_wealth']\n",
    "\n",
    "matplotlib.pyplot.figure('Gini Indexes - Encointer and NO Encointer')\n",
    "\n",
    "axes=seaborn.lineplot(data = gini_table)\n",
    "axes.set_ylim(0, 1)\n",
    "axes.set_xlim(1, 1825)\n",
    "\n",
    "matplotlib.pyplot.xlabel('Time (Days)')\n",
    "matplotlib.pyplot.ylabel('Gini Index')\n",
    "\n",
    "matplotlib.pyplot.xticks(rotation=90)\n",
    "\n",
    "matplotlib.pyplot.savefig('results_encointer_simulation/Gini Indexes - Encointer and NO Encointer',dpi = 300, bbox_inches = \"tight\")"
   ],
   "metadata": {
    "collapsed": false,
    "pycharm": {
     "name": "#%%\n"
    }
   }
  },
  {
   "cell_type": "code",
   "execution_count": null,
   "outputs": [],
   "source": [
    "# DAILY PRODUCT PURCHASES\n",
    "\n",
    "with_encointer_trade_product_table = system_events_with_encointer_table[['product_purchase_total', 'product_purchase_lower_class', 'product_purchase_middle_class', 'product_purchase_upper_class']]\n",
    "without_encointer_trade_product_table = system_events_without_encointer_table[['product_purchase_total', 'product_purchase_lower_class', 'product_purchase_middle_class', 'product_purchase_upper_class']]"
   ],
   "metadata": {
    "collapsed": false,
    "pycharm": {
     "name": "#%%\n"
    }
   }
  },
  {
   "cell_type": "code",
   "execution_count": null,
   "outputs": [],
   "source": [
    "# PLOT PRODUCT PURCHASE DAILY FOR SYSTEM WITH AND WITHOUT ENCOINTER\n",
    "\n",
    "trade_product_table = pd.DataFrame(index=system_events_with_encointer_table.index)\n",
    "#trade_product_table['with_encointer_product_purchase_daily'] = with_encointer_trade_product_table['product_purchase_total']\n",
    "#trade_product_table['without_encointer_product_purchase_daily'] = without_encointer_trade_product_table['product_purchase_total']\n",
    "\n",
    "trade_product_table['Total Product Purchases Daily w/o OGU Improved'] = without_encointer_trade_product_table['product_purchase_total']\n",
    "trade_product_table['Total Product Purchases Daily with OGU Improved'] = with_encointer_trade_product_table['product_purchase_total']\n",
    "\n",
    "\n",
    "matplotlib.pyplot.figure('Product Trade Daily - Total - Encointer and NO Encointer')\n",
    "\n",
    "axes=seaborn.lineplot(data = trade_product_table)\n",
    "\n",
    "matplotlib.pyplot.xlabel('Time (Days)')\n",
    "matplotlib.pyplot.ylabel('Amount of Products')\n",
    "axes.set_xlim(1, 1825)\n",
    "\n",
    "matplotlib.pyplot.xticks(rotation=90)\n",
    "matplotlib.pyplot.savefig('results_encointer_simulation/Product Trade Daily - Total - Encointer and NO Encointer', dpi=300, bbox_inches = \"tight\")"
   ],
   "metadata": {
    "collapsed": false,
    "pycharm": {
     "name": "#%%\n"
    }
   }
  },
  {
   "cell_type": "code",
   "execution_count": null,
   "outputs": [],
   "source": [
    "# PLOT AVERAGE PRODUCT PURCHASE PER PERSON FOR SYSTEM WITHOUT ENCOINTER\n",
    "\n",
    "trade_product_table = pd.DataFrame(index=system_events_with_encointer_table.index)\n",
    "\n",
    "trade_product_table['Avg. Daily Products Purchases per Person w/o OGU Improved'] = without_encointer_trade_product_table['product_purchase_total'] / 50\n",
    "\n",
    "matplotlib.pyplot.figure('Product Trade Daily - Per Person - NO Encointer')\n",
    "\n",
    "axes=seaborn.lineplot(data = trade_product_table)\n",
    "\n",
    "y = [0,1,2,3,4,5]\n",
    "matplotlib.pyplot.yticks(y)\n",
    "axes.set_xlim(1, 1825)\n",
    "\n",
    "matplotlib.pyplot.xlabel('Time (Days)')\n",
    "matplotlib.pyplot.ylabel('Amount of Products')\n",
    "\n",
    "matplotlib.pyplot.xticks(rotation=90)\n",
    "matplotlib.pyplot.savefig('results_encointer_simulation/Product Trade Daily - Per Person - NO Encointer', dpi=300, bbox_inches = \"tight\")"
   ],
   "metadata": {
    "collapsed": false,
    "pycharm": {
     "name": "#%%\n"
    }
   }
  },
  {
   "cell_type": "code",
   "execution_count": null,
   "outputs": [],
   "source": [
    "# PLOT PRODUCT PURCHASE DAILY FOR SYSTEM WITH AND WITHOUT ENCOINTER\n",
    "\n",
    "with_encointer_trade_product_table = system_events_with_encointer_table[['product_purchase_total', 'product_purchase_leu', 'product_purchase_chf']]\n",
    "\n",
    "\n",
    "trade_product_table = pd.DataFrame(index=system_events_with_encointer_table.index)\n",
    "\n",
    "#trade_product_table['Product Purchases without OGU in Total'] = without_encointer_trade_product_table['product_purchase_total']\n",
    "trade_product_table['Product Purchases in Total'] = with_encointer_trade_product_table['product_purchase_total']\n",
    "trade_product_table['Product Purchases in OGU'] = with_encointer_trade_product_table['product_purchase_leu']\n",
    "trade_product_table['Product Purchases in CFA-Franc'] = with_encointer_trade_product_table['product_purchase_chf']\n",
    "\n",
    "matplotlib.pyplot.figure('Product Trade Daily with OGU - Total, OGU, CFA-Franc')\n",
    "\n",
    "axes=seaborn.lineplot(data = trade_product_table)\n",
    "\n",
    "axes.set_xlim(1, 1825)\n",
    "\n",
    "matplotlib.pyplot.xlabel('Time [Days]')\n",
    "matplotlib.pyplot.ylabel('Amount of Products')\n",
    "\n",
    "matplotlib.pyplot.xticks(rotation=90)\n",
    "matplotlib.pyplot.savefig('results_encointer_simulation/Product Trade Daily with OGU - Total, OGU, CFA-Franc', dpi=300, bbox_inches = \"tight\")"
   ],
   "metadata": {
    "collapsed": false,
    "pycharm": {
     "name": "#%%\n"
    }
   }
  },
  {
   "cell_type": "code",
   "execution_count": null,
   "outputs": [],
   "source": [
    "without_encointer_trade_product_table = system_events_without_encointer_table[['product_purchase_total', 'product_purchase_lower_class', 'product_purchase_middle_class']]\n",
    "\n",
    "trade_product_table = pd.DataFrame(index=system_events_with_encointer_table.index)\n",
    "\n",
    "trade_product_table['Product Purchases in Total Improved'] = without_encointer_trade_product_table['product_purchase_total']\n",
    "trade_product_table['Product Purchases of Indigents Improved'] = without_encointer_trade_product_table['product_purchase_lower_class']\n",
    "\n",
    "\n",
    "matplotlib.pyplot.figure('Product Trade Daily without OGU - Social Class')\n",
    "\n",
    "axes=seaborn.lineplot(data = trade_product_table)\n",
    "\n",
    "axes.set_xlim(1, 1825)\n",
    "axes.set_ylim(0, 250)\n",
    "\n",
    "matplotlib.pyplot.xlabel('Time [Days]')\n",
    "matplotlib.pyplot.ylabel('Amount of Products')\n",
    "\n",
    "matplotlib.pyplot.xticks(rotation=90)\n",
    "matplotlib.pyplot.savefig('results_encointer_simulation/Product Trade Daily without OGU - Social Class', dpi=300, bbox_inches = \"tight\")"
   ],
   "metadata": {
    "collapsed": false,
    "pycharm": {
     "name": "#%%\n"
    }
   }
  },
  {
   "cell_type": "code",
   "execution_count": null,
   "outputs": [],
   "source": [
    "with_encointer_trade_product_table = system_events_with_encointer_table[['product_purchase_total', 'product_purchase_lower_class', 'product_purchase_middle_class']]\n",
    "\n",
    "trade_product_table = pd.DataFrame(index=system_events_with_encointer_table.index)\n",
    "\n",
    "#trade_product_table['Product Purchases without OGU in Total'] = without_encointer_trade_product_table['product_purchase_total']\n",
    "trade_product_table['Total Product Purchases w/ OGU Improved'] = with_encointer_trade_product_table['product_purchase_total']\n",
    "trade_product_table['Product Purchases of Indigents w/ OGU Improved'] = with_encointer_trade_product_table['product_purchase_lower_class']\n",
    "\n",
    "matplotlib.pyplot.figure('Product Trade Daily with OGU - Social Class')\n",
    "\n",
    "axes=seaborn.lineplot(data = trade_product_table)\n",
    "\n",
    "axes.set_xlim(1, 1825)\n",
    "axes.set_ylim(0, 250)\n",
    "\n",
    "matplotlib.pyplot.xlabel('Time [Days]')\n",
    "matplotlib.pyplot.ylabel('Amount of Products')\n",
    "\n",
    "matplotlib.pyplot.xticks(rotation=90)\n",
    "matplotlib.pyplot.savefig('results_encointer_simulation/Product Trade Daily with OGU - Social Class', dpi=300, bbox_inches = \"tight\")"
   ],
   "metadata": {
    "collapsed": false,
    "pycharm": {
     "name": "#%%\n"
    }
   }
  }
 ],
 "metadata": {
  "kernelspec": {
   "display_name": "Python 3",
   "language": "python",
   "name": "python3"
  },
  "language_info": {
   "codemirror_mode": {
    "name": "ipython",
    "version": 2
   },
   "file_extension": ".py",
   "mimetype": "text/x-python",
   "name": "python",
   "nbconvert_exporter": "python",
   "pygments_lexer": "ipython2",
   "version": "2.7.6"
  }
 },
 "nbformat": 4,
 "nbformat_minor": 0
}